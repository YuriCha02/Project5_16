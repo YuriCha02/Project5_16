{
  "cells": [
    {
      "cell_type": "markdown",
      "metadata": {
        "id": "view-in-github",
        "colab_type": "text"
      },
      "source": [
        "<a href=\"https://colab.research.google.com/github/YuriCha02/Project5_16/blob/Multi_Class/App.ipynb\" target=\"_parent\"><img src=\"https://colab.research.google.com/assets/colab-badge.svg\" alt=\"Open In Colab\"/></a>"
      ]
    },
    {
      "cell_type": "code",
      "source": [
        "!git clone --branch Multi_Class https://github.com/YuriCha02/Project5_16.git"
      ],
      "metadata": {
        "id": "2jRAqaMiLTHV",
        "outputId": "c8ee3f83-3426-4d90-c535-39dc41253e00",
        "colab": {
          "base_uri": "https://localhost:8080/"
        }
      },
      "execution_count": 6,
      "outputs": [
        {
          "output_type": "stream",
          "name": "stdout",
          "text": [
            "Cloning into 'Project5_16'...\n",
            "remote: Enumerating objects: 41, done.\u001b[K\n",
            "remote: Counting objects: 100% (41/41), done.\u001b[K\n",
            "remote: Compressing objects: 100% (41/41), done.\u001b[K\n",
            "remote: Total 41 (delta 18), reused 0 (delta 0), pack-reused 0\u001b[K\n",
            "Receiving objects: 100% (41/41), 970.98 KiB | 2.74 MiB/s, done.\n",
            "Resolving deltas: 100% (18/18), done.\n"
          ]
        }
      ]
    },
    {
      "cell_type": "code",
      "source": [
        "%cd Project5_16"
      ],
      "metadata": {
        "id": "UD-i8O2QL0dN",
        "outputId": "33993505-0ec5-461e-b380-2c802f7723c4",
        "colab": {
          "base_uri": "https://localhost:8080/"
        }
      },
      "execution_count": 7,
      "outputs": [
        {
          "output_type": "stream",
          "name": "stdout",
          "text": [
            "/content/Project5_16/Project5_16\n"
          ]
        }
      ]
    },
    {
      "cell_type": "markdown",
      "metadata": {
        "id": "8ujOIf9nLPyB"
      },
      "source": [
        "AnnModel3.py"
      ]
    },
    {
      "cell_type": "code",
      "execution_count": 8,
      "metadata": {
        "id": "fasDiLkXLPyF",
        "outputId": "a6a742f3-7686-4ebf-826b-ad3af97f0988",
        "colab": {
          "base_uri": "https://localhost:8080/"
        }
      },
      "outputs": [
        {
          "output_type": "stream",
          "name": "stdout",
          "text": [
            "Epoch 1 (0.26 sec): Train - Loss = 14645.67578125, Accuracy = 0.330 / Test - Accuracy = 0.416, Time Duration = 0.260sec\n",
            "Epoch 2 (0.26 sec): Train - Loss = 556.332763671875, Accuracy = 0.346 / Test - Accuracy = 0.422, Time Duration = 0.262sec\n",
            "Epoch 3 (0.27 sec): Train - Loss = 233.8997802734375, Accuracy = 0.356 / Test - Accuracy = 0.365, Time Duration = 0.273sec\n",
            "Epoch 4 (0.25 sec): Train - Loss = 1313.791015625, Accuracy = 0.328 / Test - Accuracy = 0.247, Time Duration = 0.252sec\n",
            "Epoch 5 (0.27 sec): Train - Loss = 0.0, Accuracy = 0.356 / Test - Accuracy = 0.447, Time Duration = 0.274sec\n",
            "Epoch 6 (0.32 sec): Train - Loss = 9226.529296875, Accuracy = 0.354 / Test - Accuracy = 0.247, Time Duration = 0.324sec\n",
            "Epoch 7 (0.28 sec): Train - Loss = 766.0897216796875, Accuracy = 0.367 / Test - Accuracy = 0.278, Time Duration = 0.280sec\n",
            "Epoch 8 (0.28 sec): Train - Loss = 5667.7607421875, Accuracy = 0.338 / Test - Accuracy = 0.234, Time Duration = 0.283sec\n",
            "Epoch 9 (0.29 sec): Train - Loss = 997.5642700195312, Accuracy = 0.336 / Test - Accuracy = 0.368, Time Duration = 0.293sec\n",
            "Epoch 10 (0.31 sec): Train - Loss = 1.8987337350845337, Accuracy = 0.349 / Test - Accuracy = 0.213, Time Duration = 0.308sec\n",
            "Epoch 11 (0.29 sec): Train - Loss = 2.059358835220337, Accuracy = 0.360 / Test - Accuracy = 0.414, Time Duration = 0.287sec\n",
            "Epoch 12 (0.29 sec): Train - Loss = 1.7318127155303955, Accuracy = 0.439 / Test - Accuracy = 0.427, Time Duration = 0.292sec\n",
            "Epoch 13 (0.27 sec): Train - Loss = 1.9143142700195312, Accuracy = 0.409 / Test - Accuracy = 0.373, Time Duration = 0.275sec\n",
            "Epoch 14 (0.28 sec): Train - Loss = 1.7958132028579712, Accuracy = 0.381 / Test - Accuracy = 0.324, Time Duration = 0.278sec\n",
            "Epoch 15 (0.30 sec): Train - Loss = 1.559590458869934, Accuracy = 0.370 / Test - Accuracy = 0.324, Time Duration = 0.302sec\n",
            "Epoch 16 (0.28 sec): Train - Loss = 1.5202407836914062, Accuracy = 0.360 / Test - Accuracy = 0.311, Time Duration = 0.279sec\n",
            "Epoch 17 (0.32 sec): Train - Loss = 1.6231600046157837, Accuracy = 0.354 / Test - Accuracy = 0.311, Time Duration = 0.320sec\n",
            "Epoch 18 (0.33 sec): Train - Loss = 1.5995144844055176, Accuracy = 0.354 / Test - Accuracy = 0.311, Time Duration = 0.334sec\n",
            "Epoch 19 (0.28 sec): Train - Loss = 1.4426512718200684, Accuracy = 0.355 / Test - Accuracy = 0.311, Time Duration = 0.282sec\n",
            "Epoch 20 (0.30 sec): Train - Loss = 1.7532119750976562, Accuracy = 0.354 / Test - Accuracy = 0.311, Time Duration = 0.302sec\n",
            "Epoch 21 (0.29 sec): Train - Loss = 1.694007158279419, Accuracy = 0.354 / Test - Accuracy = 0.311, Time Duration = 0.285sec\n",
            "Epoch 22 (0.30 sec): Train - Loss = 1.399443507194519, Accuracy = 0.354 / Test - Accuracy = 0.311, Time Duration = 0.297sec\n",
            "Epoch 23 (0.29 sec): Train - Loss = 1.4357872009277344, Accuracy = 0.354 / Test - Accuracy = 0.311, Time Duration = 0.285sec\n",
            "Epoch 24 (0.45 sec): Train - Loss = 1.7055854797363281, Accuracy = 0.354 / Test - Accuracy = 0.311, Time Duration = 0.448sec\n",
            "Epoch 25 (0.49 sec): Train - Loss = 1.6901500225067139, Accuracy = 0.354 / Test - Accuracy = 0.311, Time Duration = 0.485sec\n",
            "Epoch 26 (0.54 sec): Train - Loss = 1.3856275081634521, Accuracy = 0.354 / Test - Accuracy = 0.311, Time Duration = 0.540sec\n",
            "Epoch 27 (0.46 sec): Train - Loss = 1.6763834953308105, Accuracy = 0.355 / Test - Accuracy = 0.311, Time Duration = 0.457sec\n",
            "Epoch 28 (0.48 sec): Train - Loss = 1.3614153861999512, Accuracy = 0.355 / Test - Accuracy = 0.311, Time Duration = 0.480sec\n",
            "Epoch 29 (0.44 sec): Train - Loss = 1.354135513305664, Accuracy = 0.356 / Test - Accuracy = 0.311, Time Duration = 0.444sec\n",
            "Epoch 30 (0.30 sec): Train - Loss = 2.0028035640716553, Accuracy = 0.356 / Test - Accuracy = 0.311, Time Duration = 0.304sec\n",
            "Epoch 31 (0.29 sec): Train - Loss = 2.3661131858825684, Accuracy = 0.356 / Test - Accuracy = 0.311, Time Duration = 0.294sec\n",
            "Epoch 32 (0.30 sec): Train - Loss = 2.0046138763427734, Accuracy = 0.356 / Test - Accuracy = 0.311, Time Duration = 0.297sec\n",
            "Epoch 33 (0.30 sec): Train - Loss = 1.3351280689239502, Accuracy = 0.356 / Test - Accuracy = 0.311, Time Duration = 0.296sec\n",
            "Epoch 34 (0.27 sec): Train - Loss = 1.3316893577575684, Accuracy = 0.356 / Test - Accuracy = 0.311, Time Duration = 0.270sec\n",
            "Epoch 35 (0.28 sec): Train - Loss = 1.3366429805755615, Accuracy = 0.356 / Test - Accuracy = 0.311, Time Duration = 0.283sec\n",
            "Epoch 36 (0.27 sec): Train - Loss = 2.07523250579834, Accuracy = 0.356 / Test - Accuracy = 0.311, Time Duration = 0.265sec\n",
            "Epoch 37 (0.29 sec): Train - Loss = 1.332083821296692, Accuracy = 0.356 / Test - Accuracy = 0.311, Time Duration = 0.294sec\n",
            "Epoch 38 (0.29 sec): Train - Loss = 1.6030666828155518, Accuracy = 0.356 / Test - Accuracy = 0.311, Time Duration = 0.295sec\n",
            "Epoch 39 (0.29 sec): Train - Loss = 1.3304557800292969, Accuracy = 0.356 / Test - Accuracy = 0.311, Time Duration = 0.286sec\n",
            "Epoch 40 (0.28 sec): Train - Loss = 1.0409259796142578, Accuracy = 0.356 / Test - Accuracy = 0.311, Time Duration = 0.277sec\n",
            "Epoch 41 (0.27 sec): Train - Loss = 1.5934704542160034, Accuracy = 0.356 / Test - Accuracy = 0.311, Time Duration = 0.270sec\n",
            "Epoch 42 (0.29 sec): Train - Loss = 1.3138718605041504, Accuracy = 0.356 / Test - Accuracy = 0.311, Time Duration = 0.285sec\n",
            "Epoch 43 (0.28 sec): Train - Loss = 1.3278064727783203, Accuracy = 0.356 / Test - Accuracy = 0.311, Time Duration = 0.278sec\n",
            "Epoch 44 (0.32 sec): Train - Loss = 1.6009135246276855, Accuracy = 0.356 / Test - Accuracy = 0.311, Time Duration = 0.321sec\n",
            "Epoch 45 (0.30 sec): Train - Loss = 2.011320114135742, Accuracy = 0.356 / Test - Accuracy = 0.311, Time Duration = 0.304sec\n",
            "Epoch 46 (0.26 sec): Train - Loss = 1.323316216468811, Accuracy = 0.356 / Test - Accuracy = 0.311, Time Duration = 0.264sec\n",
            "Epoch 47 (0.27 sec): Train - Loss = 1.591320514678955, Accuracy = 0.356 / Test - Accuracy = 0.311, Time Duration = 0.274sec\n",
            "Epoch 48 (0.27 sec): Train - Loss = 2.4899373054504395, Accuracy = 0.356 / Test - Accuracy = 0.311, Time Duration = 0.275sec\n",
            "Epoch 49 (0.28 sec): Train - Loss = 2.1650333404541016, Accuracy = 0.356 / Test - Accuracy = 0.311, Time Duration = 0.283sec\n",
            "Epoch 50 (0.28 sec): Train - Loss = 1.5986976623535156, Accuracy = 0.356 / Test - Accuracy = 0.311, Time Duration = 0.277sec\n"
          ]
        }
      ],
      "source": [
        "!python AnnModel3.py"
      ]
    },
    {
      "cell_type": "markdown",
      "metadata": {
        "id": "X-pMpzIKLPyH"
      },
      "source": [
        "Deep Fully Connected Neural Network"
      ]
    },
    {
      "cell_type": "code",
      "execution_count": 9,
      "metadata": {
        "id": "GkICrPKXLPyH",
        "outputId": "6fbfa2a5-f4b9-477d-cb7d-f63cb7b5a027",
        "colab": {
          "base_uri": "https://localhost:8080/"
        }
      },
      "outputs": [
        {
          "output_type": "stream",
          "name": "stdout",
          "text": [
            "Epoch 1 (0.26 sec): Train - Loss = 0.0, Accuracy = 0.317 / Test - Accuracy = 0.357, Time Duration = 0.265sec\n",
            "Epoch 2 (0.25 sec): Train - Loss = 0.0, Accuracy = 0.336 / Test - Accuracy = 0.334, Time Duration = 0.247sec\n",
            "Epoch 3 (0.26 sec): Train - Loss = 13766.669921875, Accuracy = 0.340 / Test - Accuracy = 0.206, Time Duration = 0.256sec\n",
            "Epoch 4 (0.26 sec): Train - Loss = 885.4114379882812, Accuracy = 0.329 / Test - Accuracy = 0.476, Time Duration = 0.259sec\n",
            "Epoch 5 (0.29 sec): Train - Loss = 0.0, Accuracy = 0.348 / Test - Accuracy = 0.334, Time Duration = 0.289sec\n",
            "Epoch 6 (0.39 sec): Train - Loss = 697.1461791992188, Accuracy = 0.338 / Test - Accuracy = 0.260, Time Duration = 0.393sec\n",
            "Epoch 7 (0.40 sec): Train - Loss = 2.1463942527770996, Accuracy = 0.325 / Test - Accuracy = 0.393, Time Duration = 0.404sec\n",
            "Epoch 8 (0.40 sec): Train - Loss = 1.776698112487793, Accuracy = 0.354 / Test - Accuracy = 0.373, Time Duration = 0.398sec\n",
            "Epoch 9 (0.38 sec): Train - Loss = 1.8442349433898926, Accuracy = 0.349 / Test - Accuracy = 0.368, Time Duration = 0.382sec\n",
            "Epoch 10 (0.41 sec): Train - Loss = 1.7750120162963867, Accuracy = 0.344 / Test - Accuracy = 0.365, Time Duration = 0.412sec\n",
            "Epoch 11 (0.44 sec): Train - Loss = 1.735505223274231, Accuracy = 0.344 / Test - Accuracy = 0.365, Time Duration = 0.440sec\n",
            "Epoch 12 (0.35 sec): Train - Loss = 1.6613683700561523, Accuracy = 0.344 / Test - Accuracy = 0.365, Time Duration = 0.350sec\n",
            "Epoch 13 (0.29 sec): Train - Loss = 1.3182164430618286, Accuracy = 0.344 / Test - Accuracy = 0.365, Time Duration = 0.294sec\n",
            "Epoch 14 (0.30 sec): Train - Loss = 1.8755395412445068, Accuracy = 0.344 / Test - Accuracy = 0.365, Time Duration = 0.300sec\n",
            "Epoch 15 (0.28 sec): Train - Loss = 1.741576075553894, Accuracy = 0.344 / Test - Accuracy = 0.365, Time Duration = 0.276sec\n",
            "Epoch 16 (0.29 sec): Train - Loss = 1.455688714981079, Accuracy = 0.344 / Test - Accuracy = 0.365, Time Duration = 0.293sec\n",
            "Epoch 17 (0.28 sec): Train - Loss = 1.7547355890274048, Accuracy = 0.344 / Test - Accuracy = 0.365, Time Duration = 0.275sec\n",
            "Epoch 18 (0.28 sec): Train - Loss = 2.352694034576416, Accuracy = 0.344 / Test - Accuracy = 0.365, Time Duration = 0.277sec\n",
            "Epoch 19 (0.27 sec): Train - Loss = 1.1548395156860352, Accuracy = 0.344 / Test - Accuracy = 0.365, Time Duration = 0.275sec\n",
            "Epoch 20 (0.28 sec): Train - Loss = 1.3864123821258545, Accuracy = 0.344 / Test - Accuracy = 0.365, Time Duration = 0.276sec\n",
            "Epoch 21 (0.28 sec): Train - Loss = 1.4243614673614502, Accuracy = 0.344 / Test - Accuracy = 0.365, Time Duration = 0.283sec\n",
            "Epoch 22 (0.29 sec): Train - Loss = 1.9208437204360962, Accuracy = 0.344 / Test - Accuracy = 0.365, Time Duration = 0.285sec\n",
            "Epoch 23 (0.29 sec): Train - Loss = 2.2341041564941406, Accuracy = 0.344 / Test - Accuracy = 0.365, Time Duration = 0.290sec\n",
            "Epoch 24 (0.27 sec): Train - Loss = 1.9612928628921509, Accuracy = 0.344 / Test - Accuracy = 0.365, Time Duration = 0.273sec\n",
            "Epoch 25 (0.28 sec): Train - Loss = 2.4432532787323, Accuracy = 0.344 / Test - Accuracy = 0.365, Time Duration = 0.279sec\n",
            "Epoch 26 (0.27 sec): Train - Loss = 1.095207691192627, Accuracy = 0.344 / Test - Accuracy = 0.365, Time Duration = 0.274sec\n",
            "Epoch 27 (0.35 sec): Train - Loss = 1.6685997247695923, Accuracy = 0.344 / Test - Accuracy = 0.365, Time Duration = 0.349sec\n",
            "Epoch 28 (0.30 sec): Train - Loss = 1.57704496383667, Accuracy = 0.344 / Test - Accuracy = 0.365, Time Duration = 0.295sec\n",
            "Epoch 29 (0.30 sec): Train - Loss = 2.0608949661254883, Accuracy = 0.344 / Test - Accuracy = 0.365, Time Duration = 0.302sec\n",
            "Epoch 30 (0.28 sec): Train - Loss = 1.3697437047958374, Accuracy = 0.344 / Test - Accuracy = 0.365, Time Duration = 0.283sec\n",
            "Epoch 31 (0.29 sec): Train - Loss = 1.9546879529953003, Accuracy = 0.344 / Test - Accuracy = 0.362, Time Duration = 0.292sec\n",
            "Epoch 32 (0.27 sec): Train - Loss = 1.6682544946670532, Accuracy = 0.344 / Test - Accuracy = 0.362, Time Duration = 0.273sec\n",
            "Epoch 33 (0.28 sec): Train - Loss = 1.0800681114196777, Accuracy = 0.344 / Test - Accuracy = 0.362, Time Duration = 0.276sec\n",
            "Epoch 34 (0.30 sec): Train - Loss = 1.3609817028045654, Accuracy = 0.344 / Test - Accuracy = 0.362, Time Duration = 0.296sec\n",
            "Epoch 35 (0.28 sec): Train - Loss = 2.8291707038879395, Accuracy = 0.344 / Test - Accuracy = 0.362, Time Duration = 0.281sec\n",
            "Epoch 36 (0.30 sec): Train - Loss = 1.3146233558654785, Accuracy = 0.344 / Test - Accuracy = 0.362, Time Duration = 0.296sec\n",
            "Epoch 37 (0.33 sec): Train - Loss = 1.5504487752914429, Accuracy = 0.344 / Test - Accuracy = 0.362, Time Duration = 0.331sec\n",
            "Epoch 38 (0.30 sec): Train - Loss = 1.3586031198501587, Accuracy = 0.344 / Test - Accuracy = 0.362, Time Duration = 0.298sec\n",
            "Epoch 39 (0.28 sec): Train - Loss = 1.903132438659668, Accuracy = 0.344 / Test - Accuracy = 0.362, Time Duration = 0.279sec\n",
            "Epoch 40 (0.27 sec): Train - Loss = 1.6362125873565674, Accuracy = 0.344 / Test - Accuracy = 0.362, Time Duration = 0.269sec\n",
            "Epoch 41 (0.28 sec): Train - Loss = 1.5896813869476318, Accuracy = 0.344 / Test - Accuracy = 0.362, Time Duration = 0.278sec\n",
            "Epoch 42 (0.27 sec): Train - Loss = 3.022779941558838, Accuracy = 0.344 / Test - Accuracy = 0.362, Time Duration = 0.266sec\n",
            "Epoch 43 (0.28 sec): Train - Loss = 2.0664591789245605, Accuracy = 0.344 / Test - Accuracy = 0.362, Time Duration = 0.283sec\n",
            "Epoch 44 (0.30 sec): Train - Loss = 1.0770015716552734, Accuracy = 0.344 / Test - Accuracy = 0.362, Time Duration = 0.298sec\n",
            "Epoch 45 (0.28 sec): Train - Loss = 1.1825101375579834, Accuracy = 0.344 / Test - Accuracy = 0.362, Time Duration = 0.278sec\n",
            "Epoch 46 (0.29 sec): Train - Loss = 2.0638883113861084, Accuracy = 0.344 / Test - Accuracy = 0.362, Time Duration = 0.290sec\n",
            "Epoch 47 (0.44 sec): Train - Loss = 1.0757755041122437, Accuracy = 0.344 / Test - Accuracy = 0.365, Time Duration = 0.435sec\n",
            "Epoch 48 (0.42 sec): Train - Loss = 2.0633037090301514, Accuracy = 0.344 / Test - Accuracy = 0.365, Time Duration = 0.425sec\n",
            "Epoch 49 (0.42 sec): Train - Loss = 2.9344818592071533, Accuracy = 0.344 / Test - Accuracy = 0.365, Time Duration = 0.423sec\n",
            "Epoch 50 (0.45 sec): Train - Loss = 2.5613245964050293, Accuracy = 0.344 / Test - Accuracy = 0.365, Time Duration = 0.452sec\n"
          ]
        }
      ],
      "source": [
        "!python DNN.py"
      ]
    },
    {
      "cell_type": "markdown",
      "metadata": {
        "id": "850OWnD1LPyI"
      },
      "source": [
        "Convolutional Neural Network"
      ]
    },
    {
      "cell_type": "code",
      "execution_count": 10,
      "metadata": {
        "id": "i0jWE6KuLPyI",
        "outputId": "3c530302-092e-468b-cad1-39c416891598",
        "colab": {
          "base_uri": "https://localhost:8080/"
        }
      },
      "outputs": [
        {
          "output_type": "stream",
          "name": "stdout",
          "text": [
            "Epoch 1 (0.48 sec): Train - Loss = 0.0, Accuracy = 0.320 / Test - Accuracy = 0.429, Time Duration = 0.482sec\n",
            "Epoch 2 (0.51 sec): Train - Loss = 625.6702880859375, Accuracy = 0.335 / Test - Accuracy = 0.393, Time Duration = 0.512sec\n",
            "Epoch 3 (0.50 sec): Train - Loss = 3170.740966796875, Accuracy = 0.352 / Test - Accuracy = 0.463, Time Duration = 0.497sec\n",
            "Epoch 4 (0.49 sec): Train - Loss = 189.27099609375, Accuracy = 0.360 / Test - Accuracy = 0.476, Time Duration = 0.489sec\n",
            "Epoch 5 (0.49 sec): Train - Loss = 438.94244384765625, Accuracy = 0.360 / Test - Accuracy = 0.380, Time Duration = 0.486sec\n",
            "Epoch 6 (0.55 sec): Train - Loss = 108.24751281738281, Accuracy = 0.351 / Test - Accuracy = 0.440, Time Duration = 0.554sec\n",
            "Epoch 7 (0.52 sec): Train - Loss = 21.888471603393555, Accuracy = 0.361 / Test - Accuracy = 0.414, Time Duration = 0.516sec\n",
            "Epoch 8 (0.54 sec): Train - Loss = 67.23152160644531, Accuracy = 0.389 / Test - Accuracy = 0.478, Time Duration = 0.540sec\n",
            "Epoch 9 (0.53 sec): Train - Loss = 15.007719993591309, Accuracy = 0.385 / Test - Accuracy = 0.406, Time Duration = 0.534sec\n",
            "Epoch 10 (0.57 sec): Train - Loss = 30.741670608520508, Accuracy = 0.387 / Test - Accuracy = 0.478, Time Duration = 0.575sec\n",
            "Epoch 11 (0.60 sec): Train - Loss = 0.004136753734201193, Accuracy = 0.385 / Test - Accuracy = 0.414, Time Duration = 0.597sec\n",
            "Epoch 12 (0.61 sec): Train - Loss = 1.0480232238769531, Accuracy = 0.404 / Test - Accuracy = 0.494, Time Duration = 0.607sec\n",
            "Epoch 13 (0.53 sec): Train - Loss = 4.594616413116455, Accuracy = 0.473 / Test - Accuracy = 0.460, Time Duration = 0.532sec\n",
            "Epoch 14 (0.54 sec): Train - Loss = 1.5886681079864502, Accuracy = 0.490 / Test - Accuracy = 0.494, Time Duration = 0.544sec\n",
            "Epoch 15 (0.59 sec): Train - Loss = 1.4558647871017456, Accuracy = 0.470 / Test - Accuracy = 0.401, Time Duration = 0.586sec\n",
            "Epoch 16 (0.80 sec): Train - Loss = 1.4024877548217773, Accuracy = 0.482 / Test - Accuracy = 0.501, Time Duration = 0.801sec\n",
            "Epoch 17 (0.83 sec): Train - Loss = 1.5676155090332031, Accuracy = 0.490 / Test - Accuracy = 0.514, Time Duration = 0.826sec\n",
            "Epoch 18 (0.83 sec): Train - Loss = 1.451915979385376, Accuracy = 0.502 / Test - Accuracy = 0.414, Time Duration = 0.828sec\n",
            "Epoch 19 (0.52 sec): Train - Loss = 0.6629995107650757, Accuracy = 0.405 / Test - Accuracy = 0.406, Time Duration = 0.521sec\n",
            "Epoch 20 (0.56 sec): Train - Loss = 1.004172921180725, Accuracy = 0.439 / Test - Accuracy = 0.473, Time Duration = 0.563sec\n",
            "Epoch 21 (0.60 sec): Train - Loss = 0.7714129686355591, Accuracy = 0.480 / Test - Accuracy = 0.437, Time Duration = 0.602sec\n",
            "Epoch 22 (0.56 sec): Train - Loss = 1.1625573635101318, Accuracy = 0.505 / Test - Accuracy = 0.501, Time Duration = 0.556sec\n",
            "Epoch 23 (0.55 sec): Train - Loss = 0.5277392864227295, Accuracy = 0.515 / Test - Accuracy = 0.468, Time Duration = 0.547sec\n",
            "Epoch 24 (0.56 sec): Train - Loss = 1.550816297531128, Accuracy = 0.511 / Test - Accuracy = 0.527, Time Duration = 0.556sec\n",
            "Epoch 25 (0.53 sec): Train - Loss = 1.1291449069976807, Accuracy = 0.523 / Test - Accuracy = 0.506, Time Duration = 0.531sec\n",
            "Epoch 26 (0.54 sec): Train - Loss = 0.7220951318740845, Accuracy = 0.523 / Test - Accuracy = 0.532, Time Duration = 0.544sec\n",
            "Epoch 27 (0.56 sec): Train - Loss = 0.07932234555482864, Accuracy = 0.528 / Test - Accuracy = 0.504, Time Duration = 0.564sec\n",
            "Epoch 28 (0.55 sec): Train - Loss = 1.0893120765686035, Accuracy = 0.534 / Test - Accuracy = 0.527, Time Duration = 0.553sec\n",
            "Epoch 29 (0.57 sec): Train - Loss = 1.9574689865112305, Accuracy = 0.546 / Test - Accuracy = 0.522, Time Duration = 0.568sec\n",
            "Epoch 30 (0.54 sec): Train - Loss = 1.6033366918563843, Accuracy = 0.541 / Test - Accuracy = 0.568, Time Duration = 0.544sec\n",
            "Epoch 31 (0.54 sec): Train - Loss = 1.2830063104629517, Accuracy = 0.548 / Test - Accuracy = 0.548, Time Duration = 0.543sec\n",
            "Epoch 32 (0.54 sec): Train - Loss = 1.14302659034729, Accuracy = 0.542 / Test - Accuracy = 0.455, Time Duration = 0.541sec\n",
            "Epoch 33 (0.55 sec): Train - Loss = 1.0171674489974976, Accuracy = 0.542 / Test - Accuracy = 0.545, Time Duration = 0.549sec\n",
            "Epoch 34 (0.53 sec): Train - Loss = 1.3488695621490479, Accuracy = 0.553 / Test - Accuracy = 0.550, Time Duration = 0.534sec\n",
            "Epoch 35 (0.61 sec): Train - Loss = 1.2633522748947144, Accuracy = 0.505 / Test - Accuracy = 0.494, Time Duration = 0.611sec\n",
            "Epoch 36 (0.56 sec): Train - Loss = 0.07847970724105835, Accuracy = 0.541 / Test - Accuracy = 0.496, Time Duration = 0.563sec\n",
            "Epoch 37 (0.81 sec): Train - Loss = 0.9234643578529358, Accuracy = 0.547 / Test - Accuracy = 0.566, Time Duration = 0.808sec\n",
            "Epoch 38 (0.85 sec): Train - Loss = 1.5504945516586304, Accuracy = 0.543 / Test - Accuracy = 0.532, Time Duration = 0.846sec\n",
            "Epoch 39 (0.82 sec): Train - Loss = 1.4943681955337524, Accuracy = 0.552 / Test - Accuracy = 0.576, Time Duration = 0.821sec\n",
            "Epoch 40 (0.59 sec): Train - Loss = 1.1473019123077393, Accuracy = 0.558 / Test - Accuracy = 0.581, Time Duration = 0.591sec\n",
            "Epoch 41 (0.53 sec): Train - Loss = 0.309665322303772, Accuracy = 0.561 / Test - Accuracy = 0.537, Time Duration = 0.533sec\n",
            "Epoch 42 (0.55 sec): Train - Loss = 0.8445714712142944, Accuracy = 0.566 / Test - Accuracy = 0.599, Time Duration = 0.551sec\n",
            "Epoch 43 (0.63 sec): Train - Loss = 0.5012431144714355, Accuracy = 0.573 / Test - Accuracy = 0.548, Time Duration = 0.627sec\n",
            "Epoch 44 (0.83 sec): Train - Loss = 1.3021055459976196, Accuracy = 0.570 / Test - Accuracy = 0.568, Time Duration = 0.826sec\n",
            "Epoch 45 (0.84 sec): Train - Loss = 3.2216999530792236, Accuracy = 0.582 / Test - Accuracy = 0.568, Time Duration = 0.841sec\n",
            "Epoch 46 (0.74 sec): Train - Loss = 1.0665805339813232, Accuracy = 0.570 / Test - Accuracy = 0.576, Time Duration = 0.742sec\n",
            "Epoch 47 (0.53 sec): Train - Loss = 1.317001223564148, Accuracy = 0.584 / Test - Accuracy = 0.560, Time Duration = 0.531sec\n",
            "Epoch 48 (0.54 sec): Train - Loss = 1.0823272466659546, Accuracy = 0.575 / Test - Accuracy = 0.604, Time Duration = 0.539sec\n",
            "Epoch 49 (0.52 sec): Train - Loss = 0.7554800510406494, Accuracy = 0.587 / Test - Accuracy = 0.576, Time Duration = 0.522sec\n",
            "Epoch 50 (0.56 sec): Train - Loss = 1.265528917312622, Accuracy = 0.583 / Test - Accuracy = 0.591, Time Duration = 0.558sec\n"
          ]
        }
      ],
      "source": [
        "!python CNN.py"
      ]
    },
    {
      "cell_type": "markdown",
      "source": [
        "MLPClassifier"
      ],
      "metadata": {
        "id": "Pcz2UszFMqUq"
      }
    },
    {
      "cell_type": "code",
      "source": [
        "!python MLPClassifier.py"
      ],
      "metadata": {
        "id": "s9BNEXPzMr76",
        "outputId": "276e9d3a-f0de-46a6-8ad0-186141004d94",
        "colab": {
          "base_uri": "https://localhost:8080/"
        }
      },
      "execution_count": 11,
      "outputs": [
        {
          "output_type": "stream",
          "name": "stdout",
          "text": [
            "Iteration 1, loss = 0.62742174\n",
            "Validation score: 0.859416\n",
            "Iteration 2, loss = 0.41540831\n",
            "Validation score: 0.867374\n",
            "Iteration 3, loss = 0.36576378\n",
            "Validation score: 0.875332\n",
            "Iteration 4, loss = 0.33441738\n",
            "Validation score: 0.880637\n",
            "Iteration 5, loss = 0.30160302\n",
            "Validation score: 0.872679\n",
            "Iteration 6, loss = 0.28631962\n",
            "Validation score: 0.880637\n",
            "Iteration 7, loss = 0.26412422\n",
            "Validation score: 0.896552\n",
            "Iteration 8, loss = 0.25180584\n",
            "Validation score: 0.907162\n",
            "Iteration 9, loss = 0.23988251\n",
            "Validation score: 0.877984\n",
            "Iteration 10, loss = 0.22382392\n",
            "Validation score: 0.899204\n",
            "Iteration 11, loss = 0.22059729\n",
            "Validation score: 0.907162\n",
            "Iteration 12, loss = 0.20521337\n",
            "Validation score: 0.917772\n",
            "Iteration 13, loss = 0.19483779\n",
            "Validation score: 0.920424\n",
            "Iteration 14, loss = 0.19563830\n",
            "Validation score: 0.915119\n",
            "Iteration 15, loss = 0.18413267\n",
            "Validation score: 0.888594\n",
            "Iteration 16, loss = 0.17876679\n",
            "Validation score: 0.891247\n",
            "Iteration 17, loss = 0.17079732\n",
            "Validation score: 0.912467\n",
            "Iteration 18, loss = 0.16163109\n",
            "Validation score: 0.899204\n",
            "Iteration 19, loss = 0.16259586\n",
            "Validation score: 0.891247\n",
            "Iteration 20, loss = 0.15223486\n",
            "Validation score: 0.909814\n",
            "Iteration 21, loss = 0.14505437\n",
            "Validation score: 0.912467\n",
            "Iteration 22, loss = 0.14456474\n",
            "Validation score: 0.915119\n",
            "Iteration 23, loss = 0.14024535\n",
            "Validation score: 0.909814\n",
            "Iteration 24, loss = 0.14774512\n",
            "Validation score: 0.899204\n",
            "Validation score did not improve more than tol=0.000100 for 10 consecutive epochs. Stopping.\n",
            "Test Accuracy: 0.7429305912596401\n",
            "              precision    recall  f1-score   support\n",
            "\n",
            "       Bumps       0.68      0.67      0.67        81\n",
            "   Dirtiness       0.91      0.91      0.91        11\n",
            "    K_Scatch       0.93      0.95      0.94        78\n",
            "Other_Faults       0.77      0.59      0.67       135\n",
            "      Pastry       0.43      0.75      0.55        32\n",
            "      Stains       0.75      0.86      0.80        14\n",
            "   Z_Scratch       0.83      0.92      0.88        38\n",
            "\n",
            "    accuracy                           0.74       389\n",
            "   macro avg       0.76      0.81      0.77       389\n",
            "weighted avg       0.76      0.74      0.74       389\n",
            "\n"
          ]
        }
      ]
    }
  ],
  "metadata": {
    "kernelspec": {
      "display_name": "TP1",
      "language": "python",
      "name": "python3"
    },
    "language_info": {
      "codemirror_mode": {
        "name": "ipython",
        "version": 3
      },
      "file_extension": ".py",
      "mimetype": "text/x-python",
      "name": "python",
      "nbconvert_exporter": "python",
      "pygments_lexer": "ipython3",
      "version": "3.8.16"
    },
    "orig_nbformat": 4,
    "colab": {
      "provenance": [],
      "include_colab_link": true
    }
  },
  "nbformat": 4,
  "nbformat_minor": 0
}